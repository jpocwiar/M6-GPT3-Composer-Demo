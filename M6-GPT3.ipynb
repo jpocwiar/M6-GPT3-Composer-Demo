{
 "cells": [
  {
   "metadata": {},
   "cell_type": "markdown",
   "source": "# $M^6 - (GPT)^3$ Composer",
   "id": "d113a78d263bcdb8"
  },
  {
   "metadata": {},
   "cell_type": "markdown",
   "source": "### Imports",
   "id": "774afe827557ccda"
  },
  {
   "metadata": {
    "ExecuteTime": {
     "end_time": "2024-08-19T22:09:07.127267Z",
     "start_time": "2024-08-19T22:09:06.930131Z"
    }
   },
   "cell_type": "code",
   "source": [
    "import ipywidgets as widgets\n",
    "from IPython.display import display, clear_output\n",
    "import json\n",
    "import os\n",
    "from datetime import datetime\n",
    "from generation.chat import Chat"
   ],
   "id": "af5391d43f2e955",
   "outputs": [],
   "execution_count": 1
  },
  {
   "metadata": {},
   "cell_type": "markdown",
   "source": "### Utils",
   "id": "894177c3ca8de92"
  },
  {
   "metadata": {
    "ExecuteTime": {
     "end_time": "2024-08-19T22:09:08.649378Z",
     "start_time": "2024-08-19T22:09:08.625710Z"
    }
   },
   "cell_type": "code",
   "source": [
    "# Widgets\n",
    "chat_display = widgets.HTML(value=\"\", placeholder=\"Chat will be displayed here...\")\n",
    "message_input = widgets.Text(placeholder='Enter your message...')\n",
    "send_button = widgets.Button(description='Send')\n",
    "json_edit_area = widgets.Textarea(value='', placeholder='Edit JSON here...', layout=widgets.Layout(width='100%', height='300px'))\n",
    "save_button = widgets.Button(description='Save JSON')\n",
    "update_context_button = widgets.Button(description='Update Context')\n",
    "\n",
    "def add_message_to_chat(sender, message):\n",
    "    current_chat = chat_display.value\n",
    "    formatted_message = f\"<b>{sender}:</b> {message}<br>\"\n",
    "    chat_display.value = current_chat + formatted_message\n",
    "\n",
    "\n",
    "def send_message(_):\n",
    "    with output_area:\n",
    "        clear_output() \n",
    "        user_message = message_input.value\n",
    "        if user_message:\n",
    "            add_message_to_chat(\"You\", user_message)\n",
    "            message_input.value = \"\"\n",
    "            response_json = chat.send_user_message(user_message, model, temperature)\n",
    "            response_json = response_json.replace(\"```json\", \"\").replace(\"```\", \"\").strip()\n",
    "            try:\n",
    "                response = json.loads(response_json)\n",
    "            except json.JSONDecodeError as e:\n",
    "                print(f\"JSON load error. Response of the Chat is probably unterminated: {e}\")\n",
    "            add_message_to_chat(\"Chat\", response['com'])\n",
    "            json_edit_area.value = json.dumps(response, indent=4)\n",
    "\n",
    "\n",
    "def update_context_from_json(_):\n",
    "    edited_json = json_edit_area.value\n",
    "    try:\n",
    "        response = json.loads(edited_json)\n",
    "        \n",
    "        # Update context\n",
    "        if 'name' in response:\n",
    "            user_message = f\"Write me a {response['name']}\"\n",
    "            chat.context.append({'role': 'user', 'content': user_message})\n",
    "        \n",
    "        assistant_response = json.dumps(response, indent=4)\n",
    "        chat.context.append({'role': 'assistant', 'content': assistant_response})\n",
    "\n",
    "        with output_area:\n",
    "            clear_output()\n",
    "            print(\"Context updated successfully.\")\n",
    "    except json.JSONDecodeError as e:\n",
    "        with output_area:\n",
    "            clear_output()\n",
    "            print(f\"JSON decode error: {e}\")\n",
    "\n",
    "def save_json(_):\n",
    "    edited_json = json_edit_area.value\n",
    "    try:\n",
    "        response = json.loads(edited_json)\n",
    "    except json.JSONDecodeError as e:\n",
    "        with output_area:\n",
    "            clear_output()\n",
    "            print(f\"JSON decode error: {e}\")\n",
    "        return\n",
    "\n",
    "    # Save JSON to a file\n",
    "    song_name = response.get(\"name\", \"untitled\")\n",
    "    current_time = datetime.now().strftime(\"%Y%m%d_%H%M%S\")\n",
    "    file_name = f'{song_name}_{current_time}.json'\n",
    "    output_dir = \"./generated_json\"\n",
    "    if not os.path.exists(output_dir):\n",
    "        os.makedirs(output_dir)\n",
    "\n",
    "    full_path = os.path.join(output_dir, file_name)\n",
    "    with open(full_path, 'w') as file:\n",
    "        json.dump(response, file, indent=4)\n",
    "\n",
    "    chat.context = response['context']\n",
    "\n",
    "    with output_area:\n",
    "        clear_output()\n",
    "        print(f\"Response JSON saved to {full_path}\")"
   ],
   "id": "c2d38546f911c266",
   "outputs": [],
   "execution_count": 2
  },
  {
   "metadata": {},
   "cell_type": "markdown",
   "source": "### Api key",
   "id": "734c17d297735b4e"
  },
  {
   "metadata": {
    "ExecuteTime": {
     "end_time": "2024-08-19T22:09:09.662854Z",
     "start_time": "2024-08-19T22:09:09.645136Z"
    }
   },
   "cell_type": "code",
   "source": [
    "# LLM parameters\n",
    "api_key = open(\"OPENAI_API_KEY.txt\", \"r\").read().strip(\"\\n\") # key for OpenAI API (might be placed in file or explicitly as string)\n",
    "model = \"gpt-3.5-turbo\"\n",
    "temperature = 0.7\n",
    "\n",
    "chat = Chat(api_key)"
   ],
   "id": "c480024fa00a68c6",
   "outputs": [],
   "execution_count": 3
  },
  {
   "cell_type": "code",
   "id": "initial_id",
   "metadata": {
    "collapsed": true,
    "ExecuteTime": {
     "end_time": "2024-08-19T22:09:14.895699Z",
     "start_time": "2024-08-19T22:09:14.881482Z"
    }
   },
   "source": [
    "# Display Chat and JSON editor\n",
    "output_area = widgets.Output()\n",
    "update_context_button.on_click(update_context_from_json)\n",
    "send_button.on_click(send_message)\n",
    "save_button.on_click(save_json)\n",
    "display(chat_display, message_input, send_button, json_edit_area, update_context_button, save_button, output_area)"
   ],
   "outputs": [
    {
     "data": {
      "text/plain": [
       "HTML(value='', placeholder='Chat will be displayed here...')"
      ],
      "application/vnd.jupyter.widget-view+json": {
       "version_major": 2,
       "version_minor": 0,
       "model_id": "93186cd14f974419bbfa7f6ad3e0e15f"
      }
     },
     "metadata": {},
     "output_type": "display_data"
    },
    {
     "data": {
      "text/plain": [
       "Text(value='', placeholder='Enter your message...')"
      ],
      "application/vnd.jupyter.widget-view+json": {
       "version_major": 2,
       "version_minor": 0,
       "model_id": "e64b135159f34c4e8478ad9d85f99c71"
      }
     },
     "metadata": {},
     "output_type": "display_data"
    },
    {
     "data": {
      "text/plain": [
       "Button(description='Send', style=ButtonStyle())"
      ],
      "application/vnd.jupyter.widget-view+json": {
       "version_major": 2,
       "version_minor": 0,
       "model_id": "ad7e93f7b9ce460db5345232de150a3e"
      }
     },
     "metadata": {},
     "output_type": "display_data"
    },
    {
     "data": {
      "text/plain": [
       "Textarea(value='', layout=Layout(height='300px', width='100%'), placeholder='Edit JSON here...')"
      ],
      "application/vnd.jupyter.widget-view+json": {
       "version_major": 2,
       "version_minor": 0,
       "model_id": "f3f0c8ae931f404e99e2e0e4d4c04af1"
      }
     },
     "metadata": {},
     "output_type": "display_data"
    },
    {
     "data": {
      "text/plain": [
       "Button(description='Update Context', style=ButtonStyle())"
      ],
      "application/vnd.jupyter.widget-view+json": {
       "version_major": 2,
       "version_minor": 0,
       "model_id": "35915a0bad6b405d8ca361fd7015b5a4"
      }
     },
     "metadata": {},
     "output_type": "display_data"
    },
    {
     "data": {
      "text/plain": [
       "Button(description='Save JSON', style=ButtonStyle())"
      ],
      "application/vnd.jupyter.widget-view+json": {
       "version_major": 2,
       "version_minor": 0,
       "model_id": "294428fa804d4a539c20e55a9449508f"
      }
     },
     "metadata": {},
     "output_type": "display_data"
    },
    {
     "data": {
      "text/plain": [
       "Output()"
      ],
      "application/vnd.jupyter.widget-view+json": {
       "version_major": 2,
       "version_minor": 0,
       "model_id": "fea3a2bfa879421a8ea976a8891dadce"
      }
     },
     "metadata": {},
     "output_type": "display_data"
    }
   ],
   "execution_count": 4
  },
  {
   "metadata": {
    "ExecuteTime": {
     "end_time": "2024-08-19T22:09:33.241430Z",
     "start_time": "2024-08-19T22:09:33.236289Z"
    }
   },
   "cell_type": "code",
   "source": [
    "edited_json = json_edit_area.value\n",
    "try:\n",
    "    response = json.loads(edited_json)\n",
    "except json.JSONDecodeError as e:\n",
    "    with output_area:\n",
    "        clear_output()\n",
    "        print(f\"JSON decode error: {e}\")"
   ],
   "id": "30526c5ac9effc85",
   "outputs": [],
   "execution_count": 5
  },
  {
   "metadata": {
    "ExecuteTime": {
     "end_time": "2024-08-19T22:09:34.481969Z",
     "start_time": "2024-08-19T22:09:34.446556Z"
    }
   },
   "cell_type": "code",
   "source": [
    "from generation.generate_midi import MidiGenerator\n",
    "midi_generator = MidiGenerator()"
   ],
   "id": "2ca1df5eb4eb943d",
   "outputs": [],
   "execution_count": 6
  },
  {
   "metadata": {
    "ExecuteTime": {
     "end_time": "2024-08-19T22:10:21.000106Z",
     "start_time": "2024-08-19T22:10:01.447474Z"
    }
   },
   "cell_type": "code",
   "source": [
    "# Generate song from JSON\n",
    "generation = 100\n",
    "population = 128\n",
    "midi_filename = midi_generator.generate_midi_from_json(response, generation, population)\n",
    "print(f\"MIDI file generated: {midi_filename}\")"
   ],
   "id": "3bae9574d020c1e8",
   "outputs": [
    {
     "name": "stdout",
     "output_type": "stream",
     "text": [
      "JSON Structure:\n",
      "[{'s': 'Verse', 'val': 0.5, 'ar': 0.8}, {'s': 'Chorus', 'val': 0.7, 'ar': 0.9}, {'s': 'Verse', 'val': 0.6, 'ar': 0.7}, {'s': 'Chorus', 'val': 0.8, 'ar': 1}]\n",
      "Chat: Creating a journey through contrasting sections with varied scales and instrumentation to evoke a sense of exploration and wonder.\n",
      "{'c': 'D', 'dur': 2}\n",
      "{'c': 'G', 'dur': 1}\n",
      "{'c': 'A', 'dur': 1}\n",
      "{'c': 'D', 'dur': 2}\n",
      "{'c': 'G', 'dur': 1}\n",
      "{'c': 'A', 'dur': 1}\n",
      "Generating bass for: synth\n",
      "Generation 1/10\n",
      "Generation 2/10\n",
      "Generation 3/10\n",
      "Generation 4/10\n",
      "Generation 5/10\n",
      "Generation 6/10\n",
      "Generation 7/10\n",
      "Generation 8/10\n",
      "Generation 9/10\n",
      "Generation 10/10\n",
      "Generating motif for: violin\n",
      "Generation 1/10\n",
      "Generation 2/10\n",
      "Generation 3/10\n",
      "Generation 4/10\n",
      "Generation 5/10\n",
      "Generation 6/10\n",
      "Generation 7/10\n",
      "Generation 8/10\n",
      "Generation 9/10\n",
      "Generation 10/10\n",
      "Generating melody for: flute\n",
      "Generation 1/10\n",
      "Generation 2/10\n",
      "Generation 3/10\n",
      "Generation 4/10\n",
      "Generation 5/10\n",
      "Generation 6/10\n",
      "Generation 7/10\n",
      "Generation 8/10\n",
      "Generation 9/10\n",
      "Generation 10/10\n",
      "{'c': 'G#m', 'dur': 1}\n",
      "{'c': 'F#', 'dur': 1}\n",
      "{'c': 'C#m', 'dur': 1}\n",
      "{'c': 'D#m', 'dur': 1}\n",
      "{'c': 'G#m', 'dur': 1}\n",
      "{'c': 'F#', 'dur': 1}\n",
      "{'c': 'C#m', 'dur': 1}\n",
      "{'c': 'D#m', 'dur': 1}\n",
      "{'c': 'G#m', 'dur': 1}\n",
      "{'c': 'F#', 'dur': 1}\n",
      "{'c': 'C#m', 'dur': 1}\n",
      "{'c': 'D#m', 'dur': 1}\n",
      "Generating bass for: synth\n",
      "Generating motif for: harp\n",
      "Generation 1/10\n",
      "Generation 2/10\n",
      "Generation 3/10\n",
      "Generation 4/10\n",
      "Generation 5/10\n",
      "Generation 6/10\n",
      "Generation 7/10\n",
      "Generation 8/10\n",
      "Generation 9/10\n",
      "Generation 10/10\n",
      "Generating melody for: electric_guitar\n",
      "Generation 1/10\n",
      "Generation 2/10\n",
      "Generation 3/10\n",
      "Generation 4/10\n",
      "Generation 5/10\n",
      "Generation 6/10\n",
      "Generation 7/10\n",
      "Generation 8/10\n",
      "Generation 9/10\n",
      "Generation 10/10\n",
      "MIDI file generated: .\\generated_midi\\Ethereal Odyssey_20240820_001020.mid\n"
     ]
    }
   ],
   "execution_count": 8
  },
  {
   "metadata": {
    "ExecuteTime": {
     "end_time": "2024-08-19T22:11:16.146563Z",
     "start_time": "2024-08-19T22:11:15.721133Z"
    }
   },
   "cell_type": "code",
   "source": [
    "# Generate random song (no LLM)\n",
    "generation = 100\n",
    "population = 128\n",
    "midi_filename = midi_generator.generate_midi_random(generation, population)\n",
    "print(f\"MIDI file generated: {midi_filename}\")"
   ],
   "id": "acca96a6311c31b3",
   "outputs": [
    {
     "name": "stdout",
     "output_type": "stream",
     "text": [
      "JSON Structure:\n",
      "[{'s': 'Intro', 'val': 0.0, 'ar': 0.5}]\n",
      "Valence: 0.866186373727472\n",
      "Arousal: 0.18352228370176604\n",
      "Scale: C Major\n",
      "Tempo: 93\n",
      "Meter: (14, 8)\n",
      "Bass Sound: None, Bass Technique: None\n",
      "Motif Sound: marimba, Motif Technique: long_motif\n",
      "Perc Sound: standard, Perc Technique: full\n",
      "Melody Sound: None, Melody Technique: None\n",
      "Dm\n",
      "F\n",
      "G\n",
      "Am\n",
      "C\n",
      "Dm\n",
      "G\n",
      "G\n",
      "Bdim\n",
      "Am\n",
      "C\n",
      "C\n",
      "Am\n",
      "Dm\n",
      "Dm\n",
      "Bdim\n",
      "F\n",
      "F\n",
      "Bdim\n",
      "Em\n",
      "Generating motif for: marimba\n",
      "Generation 1/10\n",
      "Generation 2/10\n",
      "Generation 3/10\n",
      "Generation 4/10\n",
      "Generation 5/10\n",
      "Generation 6/10\n",
      "Generation 7/10\n",
      "Generation 8/10\n",
      "Generation 9/10\n",
      "Generation 10/10\n",
      "MIDI file generated: .\\generated_midi\\Randomized_20240820_001116.mid\n"
     ]
    }
   ],
   "execution_count": 9
  },
  {
   "metadata": {},
   "cell_type": "code",
   "outputs": [],
   "execution_count": null,
   "source": "",
   "id": "474d8d1cc460868"
  }
 ],
 "metadata": {
  "kernelspec": {
   "display_name": "Python 3",
   "language": "python",
   "name": "python3"
  },
  "language_info": {
   "codemirror_mode": {
    "name": "ipython",
    "version": 2
   },
   "file_extension": ".py",
   "mimetype": "text/x-python",
   "name": "python",
   "nbconvert_exporter": "python",
   "pygments_lexer": "ipython2",
   "version": "2.7.6"
  }
 },
 "nbformat": 4,
 "nbformat_minor": 5
}
